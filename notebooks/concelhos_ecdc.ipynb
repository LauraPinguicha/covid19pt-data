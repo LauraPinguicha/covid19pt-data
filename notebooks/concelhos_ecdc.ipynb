{
 "metadata": {
  "language_info": {
   "codemirror_mode": {
    "name": "ipython",
    "version": 3
   },
   "file_extension": ".py",
   "mimetype": "text/x-python",
   "name": "python",
   "nbconvert_exporter": "python",
   "pygments_lexer": "ipython3",
   "version": "3.8.2-final"
  },
  "orig_nbformat": 2,
  "kernelspec": {
   "name": "python3",
   "display_name": "Python 3"
  }
 },
 "nbformat": 4,
 "nbformat_minor": 2,
 "cells": [
  {
   "source": [
    "# Imports"
   ],
   "cell_type": "markdown",
   "metadata": {}
  },
  {
   "cell_type": "code",
   "execution_count": null,
   "metadata": {},
   "outputs": [],
   "source": [
    "%matplotlib inline\n",
    "import matplotlib.pyplot as plt\n",
    "import numpy as np\n",
    "import pandas as pd\n",
    "import geopandas\n",
    "from pathlib import Path"
   ]
  },
  {
   "source": [
    "# Constants"
   ],
   "cell_type": "markdown",
   "metadata": {}
  },
  {
   "cell_type": "code",
   "execution_count": null,
   "metadata": {},
   "outputs": [],
   "source": [
    "DATA_14DIAS_FILEPATH = Path.cwd() / '..' / 'data_concelhos_14dias.csv'\n",
    "DATA_INCIDENCIA_FILEPATH = Path.cwd() / '..' / 'data_concelhos_incidencia.csv'"
   ]
  },
  {
   "source": [
    "# Reading the data"
   ],
   "cell_type": "markdown",
   "metadata": {}
  },
  {
   "cell_type": "code",
   "execution_count": null,
   "metadata": {},
   "outputs": [],
   "source": [
    "data_14dias = pd.read_csv(DATA_14DIAS_FILEPATH, parse_dates=[0], index_col=[0], infer_datetime_format=True)\n",
    "data_incidencia = pd.read_csv(DATA_INCIDENCIA_FILEPATH, parse_dates=[0], index_col=[0], infer_datetime_format=True)"
   ]
  },
  {
   "cell_type": "code",
   "execution_count": null,
   "metadata": {},
   "outputs": [],
   "source": [
    "data = data_14dias\n",
    "data[['LISBOA', 'PORTO']].plot(kind='line', title='Cases 14 days prior in Lisboa and Porto', linestyle='--', marker='o', rot=45, fontsize=8)"
   ]
  },
  {
   "cell_type": "code",
   "execution_count": null,
   "metadata": {},
   "outputs": [],
   "source": [
    "data = data_incidencia\n",
    "data[['LISBOA', 'PORTO']].plot(kind='line', title='Cases 14 days prior, per 100k in Lisboa and Porto', linestyle='--', marker='o', rot=45, fontsize=8)"
   ]
  },
  {
   "cell_type": "code",
   "execution_count": null,
   "metadata": {},
   "outputs": [],
   "source": [
    "# too much data\n",
    "#plt.rcParams[\"figure.figsize\"] = [25, 5]\n",
    "#data = data_incidencia\n",
    "#data.plot(kind='line', title='Cases 14 days prior, per 100k', linestyle='--', marker='o', rot=45, fontsize=8, )"
   ]
  },
  {
   "cell_type": "code",
   "execution_count": null,
   "metadata": {},
   "outputs": [],
   "source": [
    "data_incidencia.tail(1)[ data_incidencia[-3:].diff(1).tail(1) < 0 ]\n"
   ]
  }
 ]
}