{
 "metadata": {
  "language_info": {
   "codemirror_mode": {
    "name": "ipython",
    "version": 3
   },
   "file_extension": ".py",
   "mimetype": "text/x-python",
   "name": "python",
   "nbconvert_exporter": "python",
   "pygments_lexer": "ipython3",
   "version": "3.8.2-final"
  },
  "orig_nbformat": 2,
  "kernelspec": {
   "name": "Python 3.8.2 64-bit ('venv': venv)",
   "display_name": "Python 3.8.2 64-bit ('venv': venv)",
   "metadata": {
    "interpreter": {
     "hash": "bb05cb34173d5aa59526d7557038b9d2cceedfed1f390424494498c5e327bcb2"
    }
   }
  }
 },
 "nbformat": 4,
 "nbformat_minor": 2,
 "cells": [
  {
   "source": [
    "# Imports"
   ],
   "cell_type": "markdown",
   "metadata": {}
  },
  {
   "cell_type": "code",
   "execution_count": null,
   "metadata": {},
   "outputs": [],
   "source": [
    "%matplotlib inline\n",
    "from pathlib import Path\n",
    "import pandas as pd"
   ]
  },
  {
   "source": [
    "# Constants"
   ],
   "cell_type": "markdown",
   "metadata": {}
  },
  {
   "cell_type": "code",
   "execution_count": null,
   "metadata": {},
   "outputs": [],
   "source": [
    "DATA_FILEPATH = Path.cwd() / '..' / 'data_concelhos.csv'\n",
    "POPULATION_FILEPATH = Path.cwd() / '..' / 'extra' / 'populacional' / 'PORDATA_Estimativas-a-31-12_concelhos.csv'"
   ]
  },
  {
   "source": [
    "# Reading the data"
   ],
   "cell_type": "markdown",
   "metadata": {}
  },
  {
   "cell_type": "code",
   "execution_count": null,
   "metadata": {},
   "outputs": [],
   "source": [
    "data = pd.read_csv(DATA_FILEPATH, parse_dates=[0], index_col=[0], infer_datetime_format=True)"
   ]
  },
  {
   "cell_type": "code",
   "execution_count": null,
   "metadata": {},
   "outputs": [],
   "source": [
    "data[['LISBOA', 'PORTO']].plot(kind='line', title='Cases in Lisboa and Porto', linestyle='--', marker='o', rot=45, fontsize=8)"
   ]
  },
  {
   "cell_type": "code",
   "execution_count": 99,
   "metadata": {},
   "outputs": [],
   "source": [
    "population = pd.read_csv(POPULATION_FILEPATH)\n",
    "# rename to Concelho and upper case values\n",
    "population['Concelho'] = population['Anos'].str.upper()\n",
    "\n",
    "data = pd.read_csv(DATA_FILEPATH)\n",
    "# convert date string to proper date\n",
    "data['data'] = pd.to_datetime(data['data'], dayfirst=True)"
   ]
  },
  {
   "cell_type": "code",
   "execution_count": 100,
   "metadata": {},
   "outputs": [],
   "source": [
    "df = data[data['data'] > '2020-07-12']\n",
    "\n",
    "df = df.melt(id_vars=['data'], var_name='Concelho', value_name='Casos')\n",
    "df = df.merge(population[['Concelho', '2019']], how='left', left_on='Concelho', right_on='Concelho')\n",
    "df.fillna(0, inplace=True)\n",
    "df['Racio'] = round(df['Casos']*100*1000/df['2019'], 1)\n",
    "df = df.pivot_table(values='Racio', index='data', columns='Concelho')\n",
    "\n",
    "df = df.reset_index(level=0)\n",
    "df = df.set_index('data')\n",
    "df = df.diff(2)  # 14 days"
   ]
  },
  {
   "cell_type": "code",
   "execution_count": 101,
   "metadata": {},
   "outputs": [],
   "source": [
    "df[['LISBOA', 'PORTO', 'PAÇOS DE FERREIRA']].plot(kind='line', title='Cases in Lisboa, Porto, and Paços de Ferreira, 14 days, per 100k', linestyle='--', marker='o', rot=45, fontsize=8)"
   ]
  }
 ]
}
